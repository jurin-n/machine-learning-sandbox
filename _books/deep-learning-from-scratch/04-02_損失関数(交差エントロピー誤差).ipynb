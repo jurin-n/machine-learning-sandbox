{
 "cells": [
  {
   "cell_type": "markdown",
   "metadata": {},
   "source": [
    "### 交差エントロピー誤差の式\n",
    "$$\n",
    "E=-\\sum_{k} t_k \\log y_k\n",
    "$$\n",
    "tkは、正解ラベルとなるインデックスだけが1のone-hot表現"
   ]
  },
  {
   "cell_type": "markdown",
   "metadata": {},
   "source": [
    "### Pythonで実装"
   ]
  },
  {
   "cell_type": "code",
   "execution_count": null,
   "metadata": {
    "collapsed": true
   },
   "outputs": [],
   "source": [
    "import numpy as np\n",
    "import matplotlib.pylab as plt"
   ]
  },
  {
   "cell_type": "markdown",
   "metadata": {},
   "source": [
    "### 自然対数をグラフで表す\n",
    "$$\n",
    "y=log x\n",
    "$$"
   ]
  },
  {
   "cell_type": "code",
   "execution_count": null,
   "metadata": {},
   "outputs": [],
   "source": [
    "x = np.array(np.arange(0.01, 1.0, 0.01))\n",
    "y = np.log(x)\n",
    "xmin, xmax = 0.0, 1.0\n",
    "plt.hlines([-5.0, 0.0, 5.0], xmin, xmax, linestyles=\"dashed\")  # y=-5, 0に破線を描画\n",
    "plt.plot(x, y, label='natural logarithm')\n",
    "plt.plot(x, -y, label='-1*natural logarithm')\n",
    "plt.ylim(-6.0, 8.0)\n",
    "plt.xlabel(\"x\")\n",
    "plt.ylabel(\"y\")\n",
    "plt.legend()\n",
    "plt.show()"
   ]
  },
  {
   "cell_type": "markdown",
   "metadata": {},
   "source": [
    "### 交差エントロピー誤差を実装した関数"
   ]
  },
  {
   "cell_type": "code",
   "execution_count": null,
   "metadata": {
    "collapsed": true
   },
   "outputs": [],
   "source": [
    "def cross_entropy_error(y, t):\n",
    "    delta = 1e-7 # np.log(0)を防止するため微小な値を設定\n",
    "    return -np.sum(t * np.log(y + delta))"
   ]
  },
  {
   "cell_type": "markdown",
   "metadata": {},
   "source": [
    "### 交差エントロピー誤差を実装した関数の動作確認"
   ]
  },
  {
   "cell_type": "code",
   "execution_count": null,
   "metadata": {
    "collapsed": true
   },
   "outputs": [],
   "source": [
    "# 教師データ(正解は２番目)\n",
    "t = [\n",
    "    0,\n",
    "    1,\n",
    "    0,\n",
    "    0,\n",
    "    0\n",
    "    ]"
   ]
  },
  {
   "cell_type": "code",
   "execution_count": null,
   "metadata": {},
   "outputs": [],
   "source": [
    "# ソフトマック関数(確率)の出力結果（正解ではない３番目が一番高い）\n",
    "y = [\n",
    "    0.1,\n",
    "    0.05,\n",
    "    0.6,\n",
    "    0.0,\n",
    "    0.05\n",
    "    ]\n",
    "# 交差エントロピー誤差は大きくなる\n",
    "cross_entropy_error(np.array(y),np.array(t))"
   ]
  },
  {
   "cell_type": "code",
   "execution_count": null,
   "metadata": {},
   "outputs": [],
   "source": [
    "# ソフトマック関数(確率)の出力結果（正解の２番目が一番高い）\n",
    "y = [\n",
    "    0.1,\n",
    "    0.9,\n",
    "    0.05,\n",
    "    0.0,\n",
    "    0.05\n",
    "    ]\n",
    "# 交差エントロピー誤差は小さくなる\n",
    "cross_entropy_error(np.array(y),np.array(t))"
   ]
  },
  {
   "cell_type": "code",
   "execution_count": null,
   "metadata": {
    "collapsed": true
   },
   "outputs": [],
   "source": []
  }
 ],
 "metadata": {
  "kernelspec": {
   "display_name": "ml-sandbox",
   "language": "python",
   "name": "ml-sandbox"
  },
  "language_info": {
   "codemirror_mode": {
    "name": "ipython",
    "version": 3
   },
   "file_extension": ".py",
   "mimetype": "text/x-python",
   "name": "python",
   "nbconvert_exporter": "python",
   "pygments_lexer": "ipython3",
   "version": "3.5.3"
  }
 },
 "nbformat": 4,
 "nbformat_minor": 2
}
