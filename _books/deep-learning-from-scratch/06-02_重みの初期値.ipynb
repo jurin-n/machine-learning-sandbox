{
 "cells": [
  {
   "cell_type": "markdown",
   "metadata": {},
   "source": [
    "### パッケージインポートと固定値設定"
   ]
  },
  {
   "cell_type": "code",
   "execution_count": null,
   "metadata": {
    "collapsed": true
   },
   "outputs": [],
   "source": [
    "import numpy as np\n",
    "import matplotlib.pyplot as plt\n",
    "\n",
    "INPUT_DATA = np.random.randn(1000, 100)  # 1000個のデータ\n",
    "NODE_NUM = 100  # 各隠れ層のノード（ニューロン）の数"
   ]
  },
  {
   "cell_type": "markdown",
   "metadata": {},
   "source": [
    "### 活性化関数"
   ]
  },
  {
   "cell_type": "code",
   "execution_count": null,
   "metadata": {
    "collapsed": true
   },
   "outputs": [],
   "source": [
    "def sigmoid(x):\n",
    "    return 1 / (1 + np.exp(-x))\n",
    "\n",
    "def ReLU(x):\n",
    "    return np.maximum(0, x)\n",
    "\n",
    "def tanh(x):\n",
    "    return np.tanh(x)"
   ]
  },
  {
   "cell_type": "markdown",
   "metadata": {},
   "source": [
    "### 実験で利用するコード"
   ]
  },
  {
   "cell_type": "code",
   "execution_count": null,
   "metadata": {
    "collapsed": true
   },
   "outputs": [],
   "source": [
    "def recored_activations(x, init_w, activation_func):\n",
    "    activations = {}  # ここにアクティベーションの結果を格納する\n",
    "\n",
    "    HIDDEN_LAYER_SIZE = 5  # 隠れ層が5層\n",
    "    for i in range(HIDDEN_LAYER_SIZE):\n",
    "        if i != 0:\n",
    "            x = activations[i-1]\n",
    "\n",
    "        w = init_w\n",
    "        a = np.dot(x, w)\n",
    "        z = activation_func(a)\n",
    "        activations[i] = z\n",
    "    \n",
    "    return activations\n",
    "\n",
    "def plot_histgram(data):\n",
    "    # ヒストグラムを描画\n",
    "    for i, a in data.items():\n",
    "        plt.subplot(1, len(data), i+1)\n",
    "        plt.title(str(i+1) + \"-layer\")\n",
    "        if i != 0: plt.yticks([], [])\n",
    "        plt.xlim(0.1, 1)\n",
    "        # plt.ylim(0, 7000)\n",
    "        plt.hist(a.flatten(), 30, range=(0,1))\n",
    "    plt.show()"
   ]
  },
  {
   "cell_type": "markdown",
   "metadata": {},
   "source": [
    "# 実験結果"
   ]
  },
  {
   "cell_type": "markdown",
   "metadata": {},
   "source": [
    "### 初期値：標準偏差１のガウス分布、活性化関数：sigmoid"
   ]
  },
  {
   "cell_type": "code",
   "execution_count": null,
   "metadata": {},
   "outputs": [],
   "source": [
    "activations = recored_activations(\n",
    "    x=INPUT_DATA,\n",
    "    # 標準偏差１のガウス分布\n",
    "    init_w=np.random.randn(NODE_NUM, NODE_NUM) * 1,\n",
    "    # 活性化関数：sigmoid\n",
    "    activation_func=sigmoid\n",
    ")\n",
    "plot_histgram(data=activations)"
   ]
  },
  {
   "cell_type": "markdown",
   "metadata": {
    "collapsed": true
   },
   "source": [
    "### 初期値：標準偏差0.01のガウス分布、活性化関数:sigmoid"
   ]
  },
  {
   "cell_type": "code",
   "execution_count": null,
   "metadata": {},
   "outputs": [],
   "source": [
    "activations = recored_activations(\n",
    "    x=INPUT_DATA,\n",
    "    # 標準偏差0.01のガウス分布\n",
    "    init_w=np.random.randn(NODE_NUM, NODE_NUM) * 0.01,\n",
    "    # 活性化関数:sigmoid\n",
    "    activation_func=sigmoid\n",
    ")\n",
    "plot_histgram(data=activations)"
   ]
  },
  {
   "cell_type": "markdown",
   "metadata": {},
   "source": [
    "### 初期値：Xavierの初期値、活性化関数：sigmoid"
   ]
  },
  {
   "cell_type": "code",
   "execution_count": null,
   "metadata": {},
   "outputs": [],
   "source": [
    "activations = recored_activations(\n",
    "    x=INPUT_DATA,\n",
    "    # Xavierの初期値\n",
    "    init_w=np.random.randn(NODE_NUM, NODE_NUM) * np.sqrt(1.0 / NODE_NUM),\n",
    "    # 活性化関数:sigmoid\n",
    "    activation_func=sigmoid\n",
    ")\n",
    "plot_histgram(data=activations)"
   ]
  },
  {
   "cell_type": "markdown",
   "metadata": {},
   "source": [
    "### 初期値： Xavierの初期値、活性化関数：tanh"
   ]
  },
  {
   "cell_type": "code",
   "execution_count": null,
   "metadata": {},
   "outputs": [],
   "source": [
    "activations = recored_activations(\n",
    "    x=INPUT_DATA,\n",
    "    # Xavierの初期値\n",
    "    init_w=np.random.randn(NODE_NUM, NODE_NUM) * np.sqrt(1.0 / NODE_NUM),\n",
    "    # 活性化関数:tanh\n",
    "    activation_func=tanh\n",
    ")\n",
    "plot_histgram(data=activations)"
   ]
  },
  {
   "cell_type": "markdown",
   "metadata": {},
   "source": [
    "### 初期値： 標準偏差が0.01のガウス分布、活性化関数:ReLU"
   ]
  },
  {
   "cell_type": "code",
   "execution_count": null,
   "metadata": {},
   "outputs": [],
   "source": [
    "activations = recored_activations(\n",
    "    x=INPUT_DATA,\n",
    "    # 標準偏差0.01のガウス分布\n",
    "    init_w=np.random.randn(NODE_NUM, NODE_NUM) * 0.01,\n",
    "    # 活性化関数:ReLU\n",
    "    activation_func=ReLU\n",
    ")\n",
    "plot_histgram(data=activations)"
   ]
  },
  {
   "cell_type": "markdown",
   "metadata": {},
   "source": [
    "### 初期値：Xavierの初期値、活性化関数：ReLU"
   ]
  },
  {
   "cell_type": "code",
   "execution_count": null,
   "metadata": {},
   "outputs": [],
   "source": [
    "activations = recored_activations(\n",
    "    x=INPUT_DATA,\n",
    "    # Xavierの初期値\n",
    "    init_w=np.random.randn(NODE_NUM, NODE_NUM) * np.sqrt(1.0 / NODE_NUM),\n",
    "    # 活性化関数:ReLU\n",
    "    activation_func=ReLU\n",
    ")\n",
    "plot_histgram(data=activations)"
   ]
  },
  {
   "cell_type": "markdown",
   "metadata": {},
   "source": [
    "### 初期値：Heの初期値、活性化関数：ReLU"
   ]
  },
  {
   "cell_type": "code",
   "execution_count": null,
   "metadata": {},
   "outputs": [],
   "source": [
    "activations = recored_activations(\n",
    "    x=INPUT_DATA,\n",
    "    # HEの初期値\n",
    "    init_w=np.random.randn(NODE_NUM, NODE_NUM) * np.sqrt(2.0 / NODE_NUM),\n",
    "    # 活性化関数:ReLU\n",
    "    activation_func=ReLU\n",
    ")\n",
    "plot_histgram(data=activations)"
   ]
  }
 ],
 "metadata": {
  "kernelspec": {
   "display_name": "ml-sandbox",
   "language": "python",
   "name": "ml-sandbox"
  },
  "language_info": {
   "codemirror_mode": {
    "name": "ipython",
    "version": 3
   },
   "file_extension": ".py",
   "mimetype": "text/x-python",
   "name": "python",
   "nbconvert_exporter": "python",
   "pygments_lexer": "ipython3",
   "version": "3.5.3"
  }
 },
 "nbformat": 4,
 "nbformat_minor": 2
}
