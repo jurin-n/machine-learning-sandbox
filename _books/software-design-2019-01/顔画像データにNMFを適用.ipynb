{
 "cells": [
  {
   "cell_type": "code",
   "execution_count": null,
   "metadata": {
    "collapsed": true
   },
   "outputs": [],
   "source": [
    "# ライブラリインポート\n",
    "from sklearn.datasets import fetch_lfw_people\n",
    "from sklearn.decomposition import NMF\n",
    "import matplotlib.pyplot as plt"
   ]
  },
  {
   "cell_type": "code",
   "execution_count": null,
   "metadata": {},
   "outputs": [],
   "source": [
    "# データ読み込み\n",
    "dataset = fetch_lfw_people(min_faces_per_person=70, resize=0.4) # 画像サイズ 50* 37\n",
    "faces = dataset.data"
   ]
  },
  {
   "cell_type": "code",
   "execution_count": null,
   "metadata": {},
   "outputs": [],
   "source": [
    "nmf = NMF(n_components=64) # n_componentsがrに対応。rの意味付けについてはSoftware Design 2019/1号の記事参照。\n",
    "nmf.fit(faces) # NMFをデータに適用"
   ]
  },
  {
   "cell_type": "code",
   "execution_count": null,
   "metadata": {},
   "outputs": [],
   "source": [
    "# 基底行列を可視化\n",
    "for i, comp in enumerate(nmf.components_): # nmf.components_でHが得られる。Hの意味付けについてはSoftware Design 2019/1号の記事参照。\n",
    "    plt.imshow(comp.reshape(50, 37), cmap='gray') # 1列のベクトルを再度 50 * 37に戻す\n",
    "    plt.show()"
   ]
  }
 ],
 "metadata": {
  "kernelspec": {
   "display_name": "ml-sandbox",
   "language": "python",
   "name": "ml-sandbox"
  },
  "language_info": {
   "codemirror_mode": {
    "name": "ipython",
    "version": 3
   },
   "file_extension": ".py",
   "mimetype": "text/x-python",
   "name": "python",
   "nbconvert_exporter": "python",
   "pygments_lexer": "ipython3",
   "version": "3.5.3"
  }
 },
 "nbformat": 4,
 "nbformat_minor": 2
}
