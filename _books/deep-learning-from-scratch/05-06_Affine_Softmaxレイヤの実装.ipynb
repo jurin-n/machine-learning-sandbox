{
 "cells": [
  {
   "cell_type": "code",
   "execution_count": null,
   "metadata": {
    "collapsed": true
   },
   "outputs": [],
   "source": [
    "import numpy as np"
   ]
  },
  {
   "cell_type": "code",
   "execution_count": null,
   "metadata": {
    "collapsed": true
   },
   "outputs": [],
   "source": [
    "class Affine:\n",
    "    def __init__(self, W, b):\n",
    "        self.W = W\n",
    "        self.b = b\n",
    "        self.x = None\n",
    "        self.dW = None\n",
    "        self.db = None\n",
    "        \n",
    "    def forward(self, x):\n",
    "        self.x = x\n",
    "        out = np.dot(x, self.W) + self.b\n",
    "        \n",
    "        return out\n",
    "    \n",
    "    def backward(self, dout):\n",
    "        dx = np.dot(dout, self.W.T)\n",
    "        self.dW = np.dot(self.x.T, dout)\n",
    "        self.db = np.sum(dout, axis=0)\n",
    "        \n",
    "        return dx"
   ]
  },
  {
   "cell_type": "code",
   "execution_count": null,
   "metadata": {},
   "outputs": [],
   "source": [
    "x = np.array(\n",
    "    [\n",
    "        [50,51,52],\n",
    "        [80,81,82]\n",
    "    ]\n",
    ")\n",
    "W = np.array(\n",
    "    [\n",
    "        [0,1],\n",
    "        [33,44],\n",
    "        [99,100]\n",
    "    ]\n",
    ")\n",
    "b = np.array(\n",
    "    [\n",
    "        [1,2]\n",
    "    ]\n",
    ")\n",
    "print('-'*80)\n",
    "print(x.shape)\n",
    "print(W.shape)\n",
    "print(b.shape)\n",
    "\n",
    "\n",
    "affine_layer = Affine(W,b)\n",
    "y = affine_layer.forward(x)\n",
    "dx = affine_layer.backward(y)\n",
    "\n",
    "print('-'*80)\n",
    "print(y)\n",
    "print(dx)"
   ]
  }
 ],
 "metadata": {
  "kernelspec": {
   "display_name": "ml-sandbox",
   "language": "python",
   "name": "ml-sandbox"
  },
  "language_info": {
   "codemirror_mode": {
    "name": "ipython",
    "version": 3
   },
   "file_extension": ".py",
   "mimetype": "text/x-python",
   "name": "python",
   "nbconvert_exporter": "python",
   "pygments_lexer": "ipython3",
   "version": "3.5.3"
  }
 },
 "nbformat": 4,
 "nbformat_minor": 2
}
