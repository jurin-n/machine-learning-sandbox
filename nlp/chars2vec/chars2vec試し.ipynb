{
 "cells": [
  {
   "cell_type": "markdown",
   "metadata": {},
   "source": [
    "### 参考資料\n",
    "* Chars2vec: character-based language model for handling real world texts with spelling errors and human slang\n",
    "  <br/>https://hackernoon.com/chars2vec-character-based-language-model-for-handling-real-world-texts-with-spelling-errors-and-a3e4053a147d"
   ]
  },
  {
   "cell_type": "markdown",
   "metadata": {},
   "source": [
    "### 必要なモジュールをインストール"
   ]
  },
  {
   "cell_type": "code",
   "execution_count": null,
   "metadata": {
    "collapsed": true
   },
   "outputs": [],
   "source": [
    "!pip install keras chars2vec"
   ]
  },
  {
   "cell_type": "markdown",
   "metadata": {},
   "source": [
    "### chars2vec embeddings作成"
   ]
  },
  {
   "cell_type": "code",
   "execution_count": null,
   "metadata": {
    "collapsed": true
   },
   "outputs": [],
   "source": [
    "import chars2vec\n",
    "import sklearn.decomposition\n",
    "import matplotlib.pyplot as plt\n",
    "\n",
    "# Load Inutition Engineering pretrained model\n",
    "# Models names: 'eng_50', 'eng_100', 'eng_150' 'eng_200', 'eng_300'\n",
    "c2v_model = chars2vec.load_model('eng_50')\n",
    "\n",
    "words = ['Natural', 'Language', 'Understanding',\n",
    "         'Naturael', 'Longuge', 'Updderctundjing',\n",
    "         'Motural', 'Lamnguoge', 'Understaating',\n",
    "         'Naturrow', 'Laguage', 'Unddertandink',\n",
    "         'Nattural', 'Languagge', 'Umderstoneding']\n",
    "\n",
    "# Create word embeddings\n",
    "word_embeddings = c2v_model.vectorize_words(words)\n",
    "\n",
    "# Project embeddings on plane using the PCA\n",
    "projection_2d = sklearn.decomposition.PCA(n_components=2).fit_transform(word_embeddings)\n",
    "\n",
    "# Draw words on plane\n",
    "f = plt.figure(figsize=(8, 6))\n",
    "\n",
    "for j in range(len(projection_2d)):\n",
    "    plt.scatter(projection_2d[j, 0], projection_2d[j, 1],\n",
    "                marker=('$' + words[j] + '$'),\n",
    "                s=500 * len(words[j]), label=j,\n",
    "                facecolors='green' if words[j] \n",
    "                           in ['Natural', 'Language', 'Understanding'] else 'black')\n",
    "\n",
    "plt.show()"
   ]
  },
  {
   "cell_type": "markdown",
   "metadata": {},
   "source": [
    "### chars2vec modelトレーニング"
   ]
  },
  {
   "cell_type": "code",
   "execution_count": null,
   "metadata": {
    "collapsed": true
   },
   "outputs": [],
   "source": [
    "import chars2vec\n",
    "\n",
    "dim = 50\n",
    "\n",
    "path_to_model = 'models/'\n",
    "\n",
    "X_train = [('mecbanizing', 'mechanizing'), # similar words, target is equal 0\n",
    "           ('dicovery', 'dis7overy'), # similar words, target is equal 0\n",
    "           ('prot$oplasmatic', 'prtoplasmatic'), # similar words, target is equal 0\n",
    "           ('copulateng', 'lzateful'), # not similar words, target is equal 1\n",
    "           ('estry', 'evadin6'), # not similar words, target is equal 1\n",
    "           ('cirrfosis', 'afear') # not similar words, target is equal 1\n",
    "          ]\n",
    "\n",
    "y_train = [0, 0, 0, 1, 1, 1]\n",
    "\n",
    "model_chars = ['!', '\"', '#', '$', '%', '&', \"'\", '(', ')', '*', '+', ',', '-', '.',\n",
    "               '/', '0', '1', '2', '3', '4', '5', '6', '7', '8', '9', ':', ';', '<',\n",
    "               '=', '>', '?', '@', '_', 'a', 'b', 'c', 'd', 'e', 'f', 'g', 'h', 'i',\n",
    "               'j', 'k', 'l', 'm', 'n', 'o', 'p', 'q', 'r', 's', 't', 'u', 'v', 'w',\n",
    "               'x', 'y', 'z']\n",
    "\n",
    "# Create and train chars2vec model using given training data\n",
    "my_c2v_model = chars2vec.train_model(dim, X_train, y_train, model_chars)\n",
    "\n",
    "# Save pretrained model\n",
    "chars2vec.save_model(my_c2v_model, path_to_model)\n",
    "\n",
    "words = ['list', 'of', 'words']\n",
    "\n",
    "# Load pretrained model, create word embeddings\n",
    "c2v_model = chars2vec.load_model(path_to_model)\n",
    "word_embeddings = c2v_model.vectorize_words(words)"
   ]
  },
  {
   "cell_type": "code",
   "execution_count": null,
   "metadata": {
    "collapsed": true
   },
   "outputs": [],
   "source": [
    "word_embeddings"
   ]
  }
 ],
 "metadata": {
  "kernelspec": {
   "display_name": "ml-sandbox",
   "language": "python",
   "name": "ml-sandbox"
  },
  "language_info": {
   "codemirror_mode": {
    "name": "ipython",
    "version": 3
   },
   "file_extension": ".py",
   "mimetype": "text/x-python",
   "name": "python",
   "nbconvert_exporter": "python",
   "pygments_lexer": "ipython3",
   "version": "3.5.3"
  }
 },
 "nbformat": 4,
 "nbformat_minor": 2
}
