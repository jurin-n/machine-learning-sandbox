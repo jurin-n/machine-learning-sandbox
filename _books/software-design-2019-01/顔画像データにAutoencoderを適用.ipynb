{
 "cells": [
  {
   "cell_type": "code",
   "execution_count": null,
   "metadata": {},
   "outputs": [],
   "source": [
    "# インポート\n",
    "from sklearn.datasets import fetch_lfw_people\n",
    "import matplotlib.pyplot as plt\n",
    "from tensorflow.keras.models import Sequential\n",
    "from tensorflow.keras.layers import Dense"
   ]
  },
  {
   "cell_type": "code",
   "execution_count": null,
   "metadata": {},
   "outputs": [],
   "source": [
    "# データの読み込み\n",
    "dataset = fetch_lfw_people(min_faces_per_person=70, resize=0.4)\n",
    "faces = dataset.data / 255. # 値が0.0から1.0に収まるように正規化"
   ]
  },
  {
   "cell_type": "code",
   "execution_count": null,
   "metadata": {
    "collapsed": true
   },
   "outputs": [],
   "source": [
    "# Autoencoderのネットワーク構築\n",
    "autoencoder = Sequential()\n",
    "autoencoder.add(Dense(64, activation='sigmoid', input_shape=(1850,))) # Encoder\n",
    "autoencoder.add(Dense(1850, activation='sigmoid')) # Dencoder"
   ]
  },
  {
   "cell_type": "code",
   "execution_count": null,
   "metadata": {},
   "outputs": [],
   "source": [
    "# Autoencoderの学習\n",
    "autoencoder.compile(optimizer='adam', loss='binary_crossentropy')\n",
    "autoencoder.fit(faces, faces, epochs=100, batch_size=64, shuffle=True)"
   ]
  },
  {
   "cell_type": "code",
   "execution_count": null,
   "metadata": {},
   "outputs": [],
   "source": [
    "# Encoderの重みを可視化\n",
    "weights, biases = autoencoder.layers[0].get_weights()\n",
    "for i in range(weights.shape[1]):\n",
    "    plt.imshow(weights[:, i].reshape(50 ,37), cmap='gray')\n",
    "    plt.show()"
   ]
  }
 ],
 "metadata": {
  "kernelspec": {
   "display_name": "ml-sandbox",
   "language": "python",
   "name": "ml-sandbox"
  },
  "language_info": {
   "codemirror_mode": {
    "name": "ipython",
    "version": 3
   },
   "file_extension": ".py",
   "mimetype": "text/x-python",
   "name": "python",
   "nbconvert_exporter": "python",
   "pygments_lexer": "ipython3",
   "version": "3.5.3"
  }
 },
 "nbformat": 4,
 "nbformat_minor": 2
}
