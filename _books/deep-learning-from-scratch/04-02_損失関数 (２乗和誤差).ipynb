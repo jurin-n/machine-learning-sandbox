{
 "cells": [
  {
   "cell_type": "markdown",
   "metadata": {},
   "source": [
    "### ２乗和誤差の式\n",
    "$$\n",
    "E=\\frac{1}{2}\\sum_{k}(y_k-t_k)^2\n",
    "$$"
   ]
  },
  {
   "cell_type": "markdown",
   "metadata": {},
   "source": [
    "### Pythonで実装"
   ]
  },
  {
   "cell_type": "code",
   "execution_count": null,
   "metadata": {
    "collapsed": true
   },
   "outputs": [],
   "source": [
    "import numpy as np"
   ]
  },
  {
   "cell_type": "code",
   "execution_count": null,
   "metadata": {
    "collapsed": true
   },
   "outputs": [],
   "source": [
    "def mean_squared_error(y, t):\n",
    "    return 0.5 * np.sum((y-t)**2)"
   ]
  },
  {
   "cell_type": "code",
   "execution_count": null,
   "metadata": {
    "collapsed": true
   },
   "outputs": [],
   "source": [
    "# 教師データ(正解は２番目)\n",
    "t = [\n",
    "    0,\n",
    "    1,\n",
    "    0,\n",
    "    0,\n",
    "    0\n",
    "    ]"
   ]
  },
  {
   "cell_type": "code",
   "execution_count": null,
   "metadata": {},
   "outputs": [],
   "source": [
    "# ソフトマック関数(確率)の出力結果（正解ではない３番目が一番高い）\n",
    "y = [\n",
    "    0.1,\n",
    "    0.05,\n",
    "    0.6,\n",
    "    0.0,\n",
    "    0.05\n",
    "    ]\n",
    "# 2乗和誤差は大きくなる\n",
    "mean_squared_error(np.array(y),np.array(t))"
   ]
  },
  {
   "cell_type": "code",
   "execution_count": null,
   "metadata": {},
   "outputs": [],
   "source": [
    "# ソフトマック関数(確率)の出力結果（正解の２番目が一番高い）\n",
    "y = [\n",
    "    0.1,\n",
    "    0.6,\n",
    "    0.05,\n",
    "    0.0,\n",
    "    0.05\n",
    "    ]\n",
    "# 2乗和誤差は小さくなる\n",
    "mean_squared_error(np.array(y),np.array(t))"
   ]
  }
 ],
 "metadata": {
  "kernelspec": {
   "display_name": "ml-sandbox",
   "language": "python",
   "name": "ml-sandbox"
  },
  "language_info": {
   "codemirror_mode": {
    "name": "ipython",
    "version": 3
   },
   "file_extension": ".py",
   "mimetype": "text/x-python",
   "name": "python",
   "nbconvert_exporter": "python",
   "pygments_lexer": "ipython3",
   "version": "3.5.3"
  }
 },
 "nbformat": 4,
 "nbformat_minor": 2
}
