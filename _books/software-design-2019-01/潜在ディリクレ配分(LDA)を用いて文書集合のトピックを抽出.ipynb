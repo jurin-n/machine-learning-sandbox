{
 "cells": [
  {
   "cell_type": "markdown",
   "metadata": {},
   "source": [
    "## 事前準備\n",
    "下記pipコマンドでgensimをインストール\n",
    "'''\n",
    "!pip install gensim\n",
    "'''"
   ]
  },
  {
   "cell_type": "markdown",
   "metadata": {},
   "source": [
    "## ライブラリインポート"
   ]
  },
  {
   "cell_type": "code",
   "execution_count": null,
   "metadata": {
    "collapsed": true
   },
   "outputs": [],
   "source": [
    "from gensim import corpora, models, similarities\n",
    "import collections"
   ]
  },
  {
   "cell_type": "markdown",
   "metadata": {},
   "source": [
    "## 学習データ設定"
   ]
  },
  {
   "cell_type": "code",
   "execution_count": null,
   "metadata": {
    "collapsed": true
   },
   "outputs": [],
   "source": [
    "# http://www.cl.ecei.tohoku.ac.jp/nlp100/#ch9 より入手を想定\n",
    "documents_str = [\n",
    "    \"i 'm a software engineer .\",\n",
    "    \"7 described linerar algebra .\" ,\n",
    "    \"this is a pen .\"\n",
    "]"
   ]
  },
  {
   "cell_type": "code",
   "execution_count": null,
   "metadata": {
    "collapsed": true
   },
   "outputs": [],
   "source": [
    "documents = [document.split() for document in documents_str]\n",
    "dictionary = corpora.Dictionary(documents)\n",
    "corpus = [dictionary.doc2bow(document) for document in documents]"
   ]
  },
  {
   "cell_type": "markdown",
   "metadata": {},
   "source": [
    "## 潜在ディリクレ配分(LDA)で解析"
   ]
  },
  {
   "cell_type": "code",
   "execution_count": null,
   "metadata": {},
   "outputs": [],
   "source": [
    "# LDAを学習。k=10まで次元削減\n",
    "lda = models.ldamodel.LdaModel(corpus, id2word=dictionary, num_topics=10)\n",
    "\n",
    "# トピックを表示\n",
    "tf = collections.Counter(flatten for inner in documents for flatten in inner)\n",
    "for i, topic in enumerate(lda.show_topics(-1, num_words=len(dictionary), formatted=False)):\n",
    "    print(\"-\"*120)\n",
    "    print(\"Topic-\", i)\n",
    "    ur = {}\n",
    "    for word in topic[1]:\n",
    "        ur[word[0]] = float(word[1])/float(tf[word[0]])\n",
    "    for v in (sorted(ur.items(), key=lambda x: x[1], reverse=1)):\n",
    "        print(v[0], v[1])"
   ]
  }
 ],
 "metadata": {
  "kernelspec": {
   "display_name": "ml-sandbox",
   "language": "python",
   "name": "ml-sandbox"
  },
  "language_info": {
   "codemirror_mode": {
    "name": "ipython",
    "version": 3
   },
   "file_extension": ".py",
   "mimetype": "text/x-python",
   "name": "python",
   "nbconvert_exporter": "python",
   "pygments_lexer": "ipython3",
   "version": "3.5.3"
  }
 },
 "nbformat": 4,
 "nbformat_minor": 2
}
